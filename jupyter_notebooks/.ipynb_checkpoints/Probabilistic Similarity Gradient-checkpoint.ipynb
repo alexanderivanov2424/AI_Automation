{
 "cells": [
  {
   "cell_type": "markdown",
   "metadata": {},
   "source": [
    "# Probabilistic Similarity Gradient\n",
    "PSG.py"
   ]
  },
  {
   "cell_type": "markdown",
   "metadata": {},
   "source": [
    "## Context\n",
    "\n",
    "\n"
   ]
  },
  {
   "cell_type": "markdown",
   "metadata": {},
   "source": [
    "## Definitions:\n",
    "\n",
    "Similarity of a cell C is defined to be the minimum value of the cosine similarity between cell C and its neighbors N(C).\n",
    "\n",
    "The cosine similarity between cell A and cell B is the dot product of the data in cells A and B divided by the magnitude of the data in cells A and B.\n",
    "\n",
    "Dissimilarity is defined to be 1 - Similarity.\n",
    "\n",
    "Notation:\n",
    "\n",
    "The 1D data vector in cell $A = Data(A)$ <br>\n",
    "Neighbors of cell $C = N(C)$ <br>\n",
    "Similarity between $A$ and $B = Sim(A,B) = (Data(A) \\cdot Data(B))$ / $|Data(A)|$ / $|Data(B)|$ <br>\n",
    "Similarity of cell $C = Sim(C) = min( S(C,K)$ for $K$ in $N(C))$ <br>\n",
    "Dissimilarity of a cell $C = Dis(C) = 1 - Sim(C)$ <br>"
   ]
  },
  {
   "cell_type": "markdown",
   "metadata": {},
   "source": [
    "## Algorithm\n",
    "\n",
    "Number of measurements to be taken $N$ <br>\n",
    "Initial values for G = $k$ = .1 <br>\n",
    "Blur Constant = $blur$ <br>\n",
    "Power Constant = $pow$ <br>\n",
    "\n",
    "\n",
    "Measurement Grid $M$ <br>\n",
    "Dissimilarity Grid $G$ with the same dimensions as $M$ <br>\n",
    "Set of measured Cells $S$ <br>\n",
    "\n",
    "\n",
    "initialize $G$ = $k$ = .1 for all locations in $G$\n",
    "\n",
    "until $N$ measurements are taken\n",
    "- $G_p = G^{pow}$\n",
    "- $G_b$ = Gaussian blur of $G_p$ (sigma =$blur$)\n",
    "- $G_{norm}$ = $G_b$ / (sum($G_b$))\n",
    "- a cell $C$ is selected based on the probabilities in $G_{norm}$\n",
    "- if $C$ has already been selected it is reselected\n",
    "- measure data at $C$ into $M$\n",
    "- add $C$ to $S$\n",
    "- for all $K$ in $N(C)$ measure data at $K$ into $M$ or load it from $M$\n",
    "- Calculate $Dis(C)$ and update $G$\n",
    "- repeat\n",
    "\n",
    "    "
   ]
  },
  {
   "cell_type": "code",
   "execution_count": null,
   "metadata": {},
   "outputs": [],
   "source": []
  },
  {
   "cell_type": "code",
   "execution_count": null,
   "metadata": {},
   "outputs": [],
   "source": []
  }
 ],
 "metadata": {
  "kernelspec": {
   "display_name": "Python 3",
   "language": "python",
   "name": "python3"
  },
  "language_info": {
   "codemirror_mode": {
    "name": "ipython",
    "version": 3
   },
   "file_extension": ".py",
   "mimetype": "text/x-python",
   "name": "python",
   "nbconvert_exporter": "python",
   "pygments_lexer": "ipython3",
   "version": "3.6.7"
  }
 },
 "nbformat": 4,
 "nbformat_minor": 2
}
