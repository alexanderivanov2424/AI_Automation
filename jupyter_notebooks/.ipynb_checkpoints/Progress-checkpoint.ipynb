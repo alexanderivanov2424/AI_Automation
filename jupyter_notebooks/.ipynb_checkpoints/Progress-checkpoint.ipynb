{
 "cells": [
  {
   "cell_type": "markdown",
   "metadata": {},
   "source": [
    "6/13\n",
    "\n",
    "Cosine similarity metric is able to separate some clusters but not all. For a general data set, identification of important clusters may not occur.\n",
    "\n",
    "Example: A few of the major groups were found almost immediately but, a specific region is not broken down until over 60 clusters are calculated.\n",
    "\n",
    "Ideally cluster similarity should be measured by looking at peaks and their positions.\n",
    "\n",
    "Another consideration for runtime and the clusters that are being formed is giving the clustering algorithm an adjacency matrix to represent the connections between adjacent cells. This will adjust how clusters are formed and also may improve runtime.\n",
    "\n",
    "![Cosine Clustering](images/clusters-3-10.png)"
   ]
  },
  {
   "cell_type": "markdown",
   "metadata": {},
   "source": [
    "6/14\n",
    "\n",
    "Implementing a phase coloring based on relative similarity. The goal is to see major colors like red, green, blue in the major clusters and then as clusters split the parts retain the colors of the parent cluster. This should result in a plot where the changing colors show the gradients in cosine similarity and regions that have a single material/spectra will have a single almost unchanged color.\n",
    "\n",
    "Initial implementation:\n",
    "Start with 3 clusters and assign then the colors red, green, blue. Then proceed to split clusters based on the hierarchical clustering method. Each time a cluster is split the the neighbors in the color wheel N1, N2 and the two children clusters C1, C2 are considered.\n",
    "\n",
    "The children's colors are assigned such that the hue difference between N1 - C1 - C2 - N2 is proportional to the similarity of the pairs. The order of C1,C2 (N1 - C1 - C2 - N2 vs. N1 - C2 - C1 - N2) is determined by the similarity of C1 and C2 to N1. The more similar pair is used."
   ]
  },
  {
   "cell_type": "markdown",
   "metadata": {},
   "source": [
    "6/17\n",
    "\n",
    "Wafer coloring implemented with following results. Because of the use of the cosine the clusters of interest are not segmented. The general region of the cluster is found but the specific points are not identifiable. Furthermore, there is a clear split in shade through the desired cluster.\n",
    "\n",
    "![177 Cosine Clusters](images/Cosine_177.png)\n",
    "\n",
    "\n",
    "Plan is to adjust the coloring to be on a linear scale. Ideally this would mean that red and green colors are the furthest from each other and the rest are some combination. Also when a cluster is split all other colors are shifted based on the similarity of the corresponding clusters. Instead of just considering the two neighbors and scaling the split in the range between them, the entire hue spectra is considered and all the clusters so far mapped are placed proportionally to the similarity of their neighbors."
   ]
  },
  {
   "cell_type": "markdown",
   "metadata": {},
   "source": [
    "6/18\n",
    "\n",
    "Implementation of colormap with linear color scale resulted in a less informative visual. Because all of the similarity values are rescaled at each split the cluster colors become an even distribution over the color spectrum. Even though the separation is proportional to similarity and similarity is scaled (subtracting min value) the majority of the similarity values are the same so the scale is almost uniform.\n",
    "\n",
    "![177 Linear Cosine Clustering](images/Cosine_linear_177.png)\n",
    "\n",
    "Either way, because of the large number of points there is almost so visible gradient anywhere in the image that corresponds to any desired phases. Instead the visual produced shows the order in which grid locations are added to clusters in a build up clustering approach. This does produce a spiral pattern but is not really the information we are trying to visualize.\n",
    "\n",
    "The plan is to transition to using peaks or some form of peak metric to measure similarity.\n",
    "\n",
    "Peak location will be done via Roberts code. (how to merge the code / what files are needed)\n",
    "\n",
    "Another task is to write a container for the existing code allowing it to function independently of the system. Plan is to start with Singularity and potentially, if need be, use Docker."
   ]
  },
  {
   "cell_type": "markdown",
   "metadata": {},
   "source": [
    "6/19\n",
    "\n",
    "For completeness L1 and L2 distance visuals have been implemented to see how well these similarity metrics can differentiate between clusters. Results are similar to using the cosine metric with some variations. No clear advantages to either method.\n",
    "\n",
    "![L1](images/L1_177.png)\n",
    "![L2](images/L2_177.png)\n",
    "\n",
    "Code for locating peaks in spectra data needs to be streamlined into the current clustering algorithm and then the effectiveness of the method can be assessed.\n",
    "\n",
    "A container to run all exiting code has been implemented. It automatically installs the latest version of the code (from github) and comes with the TiNiSn_500 and TiNiSn_600 data. Testing the container to make sure it runs on other machines is still necessary.\n",
    "\n"
   ]
  },
  {
   "cell_type": "markdown",
   "metadata": {},
   "source": [
    "6/20\n",
    "\n",
    "Peak based clustering implemented with significant results. Plotting the number of peaks in each spectra results in a limilar plot to L1 and L2 similarity above. Computing a similarity of two spectra based on the number of peaks not present in the other results in a plot where key regions are identifiable. To determine if a peak is present in both plots a \"delta\" parameter is used as the maximum allowed peak shift. Withing this delta two peaks are considered to be the same. This value was picked based on the resulting plots so a method to properly determine the value before hand is necesary. Furthermore, many clusters that should be whole are split up by this method. Potentially incorporating the peak intensities can improve the algorithms performance.\n",
    "\n",
    "![Peak Clustering](images/peak_clust-0.049-31.png)\n",
    "\n",
    "Note how the Heusler and half-Heusler regions are bounded along one of their sides while in the other direction the region extends further than necesary."
   ]
  },
  {
   "cell_type": "markdown",
   "metadata": {},
   "source": [
    "6/21\n",
    "\n",
    "Presentation: https://docs.google.com/presentation/d/1LDtxghLUUXl52NSUOivJ78-jeY5iKSavsgqMwsCn7AY/edit#slide=id.g5c0eef7190_0_88\n",
    "\n",
    "The new direction is to identify peak clusters (the regions in space that correspond to the peaks) and use these to represent diffraction patterns.\n",
    "\n",
    "For example: across all the diffraction patterns some 7 unique peaks are found (including peak shifting) then the reduced representation may look like (0,0,0.1,3,0,0,5) where 0 corresponds to not having that peak and the values correspond to the presence and intensity of the peak.\n",
    "\n",
    "\n"
   ]
  },
  {
   "cell_type": "markdown",
   "metadata": {},
   "source": [
    "6/24\n",
    "\n",
    "Peak Clustering has been implemented with some results. All the peaks in the data set are mapped to coordinates based on their x,y position in the grid and the position of the peak in the difraction pattern (p). Each peak is assigned the coordinate (x/100,y/100,p). The x,y coordinates are scaled to prevent clustering in the peak axis instead of the x,y axes.\n",
    "\n",
    "Peaks are clustered into 50 groups. This is an arbitrary value and needs to be adjusted to match the true number of peaks.\n",
    "\n",
    "Peak clustering is used to convert each diffraction pattern into 50 dimensional vectors (called peak vectors). These vectors are then used to cluster the diffraction patterns on the waffer. This produces the following clusterings:\n",
    "\n",
    "![PeakReductionClustering](images/PeakReductionClustering_50.png)\n",
    "\n",
    "Clustering seems to correspond more accurately to the actual peaks in the data set, although some balancing of peak intensity versus peak presence needs to be made.\n",
    "\n",
    "\n",
    "![PeakReductionClustering](images/PeakReductionClustering_60.png)\n",
    "\n",
    "Here with 60 different possible peaks the clustering is more broad (regions are rounder) and it seems to align better with the actual clustering. The Orange cluster is present when with 50 peak clusters it was not.\n",
    "\n",
    "With some analysis of how peaks are clustered it seems like around 58 peak clusters is where the samepeak is split into two labels so 57 peak clusters is used:\n",
    "\n",
    "\n",
    "![PeakReductionClustering](images/PeakReductionClustering_57.png)\n",
    "\n",
    "Here we can see the amorphous region, half heusler, and full heusler decently seperated from the rest of the wafer. However some individual grid locations still pertain to the mentioned clusters when they shouldn't. This seems to be a product of the current similarity function.\n",
    "\n",
    "The similarity between two diffrection patters is found as follows. The peak vectors are obtained for each. The values in these vectors are log scaled. and the L1 distance is taken. Clustering is performed without connectivity.\n",
    "\n",
    "A specific example of how clustering goes wrong. Above between the blue and purple clusters in the lower region of the wafer. The vertical split shoul actually be slanted as seen from the plots below.\n",
    "\n",
    "![DF_Plot_1](images/DF_Plot_1.png)\n",
    "\n",
    "\n",
    "Here is an example of where one group of peaks is split into multiple labels. Note the 2 vs 52 labels.\n",
    "\n",
    "![DF_Plot_2](images/DF_Plot_2.png)"
   ]
  },
  {
   "cell_type": "code",
   "execution_count": null,
   "metadata": {},
   "outputs": [],
   "source": []
  },
  {
   "cell_type": "code",
   "execution_count": null,
   "metadata": {},
   "outputs": [],
   "source": []
  }
 ],
 "metadata": {
  "kernelspec": {
   "display_name": "Python 3",
   "language": "python",
   "name": "python3"
  },
  "language_info": {
   "codemirror_mode": {
    "name": "ipython",
    "version": 3
   },
   "file_extension": ".py",
   "mimetype": "text/x-python",
   "name": "python",
   "nbconvert_exporter": "python",
   "pygments_lexer": "ipython3",
   "version": "3.6.8"
  }
 },
 "nbformat": 4,
 "nbformat_minor": 2
}
