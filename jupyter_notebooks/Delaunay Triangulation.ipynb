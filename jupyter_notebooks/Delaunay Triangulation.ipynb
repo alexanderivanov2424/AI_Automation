{
 "cells": [
  {
   "cell_type": "markdown",
   "metadata": {},
   "source": [
    "# Delaunay Triangulation\n",
    "DT.py"
   ]
  },
  {
   "cell_type": "markdown",
   "metadata": {},
   "source": [
    "## Algorithm\n",
    "\n",
    "\n",
    "\n",
    "Number of measurements to be taken $N$ <br>\n",
    "Exploration Chance = p <br>\n",
    "\n",
    "Measurement Grid $M$ <br>\n",
    "Set of measured Cells $S$ <br>\n",
    "\n",
    "Delaunay Triangulation <br>\n",
    "\n",
    "HashTable of triangulation edge lengths $L : (p1,p2)$ -> $length$   <br>\n",
    "HashTable of triangulation edge similarity $S : (p1,p2)$ -> $Sim(M(p1),M(p2))$ <br>\n",
    "(Note: $p1,p2$ are points )<br>\n",
    "\n",
    "\n",
    "take 3 random measurements into $M$ <br>\n",
    "update $Points$ with the three random measurements. <br>\n",
    "\n",
    "Construct Delaunay Triangulation based on $Points$ <br>\n",
    "Update $L$ based on edges <br>\n",
    "Update $S$ based on similarity across edges<br>\n",
    "\n",
    "until $N$ measurements are taken\n",
    "- with probability p \n",
    "    - take a measure at a random point not yet measured: $p$\n",
    "- with probability 1-p\n",
    "    - find e in triangulation edges such that S(e)/L(e) > S(e')/L(e') for all other e'\n",
    "    - $p$ = center of e\n",
    "- Take a measurement at $p$ into $M$\n",
    "- Add $p$ to the triangulation\n",
    "- Update $L$ and $S$ with triangulation and $M$"
   ]
  },
  {
   "cell_type": "code",
   "execution_count": null,
   "metadata": {},
   "outputs": [],
   "source": []
  },
  {
   "cell_type": "code",
   "execution_count": null,
   "metadata": {},
   "outputs": [],
   "source": []
  }
 ],
 "metadata": {
  "kernelspec": {
   "display_name": "Python 3",
   "language": "python",
   "name": "python3"
  },
  "language_info": {
   "codemirror_mode": {
    "name": "ipython",
    "version": 3
   },
   "file_extension": ".py",
   "mimetype": "text/x-python",
   "name": "python",
   "nbconvert_exporter": "python",
   "pygments_lexer": "ipython3",
   "version": "3.6.7"
  }
 },
 "nbformat": 4,
 "nbformat_minor": 2
}
