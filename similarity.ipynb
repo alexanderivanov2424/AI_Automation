{
 "cells": [
  {
   "cell_type": "markdown",
   "metadata": {},
   "source": [
    "# Similarity.py"
   ]
  },
  {
   "cell_type": "code",
   "execution_count": 1,
   "metadata": {},
   "outputs": [],
   "source": [
    "from pyclustering.cluster.kmeans import kmeans\n",
    "from pyclustering.utils.metric import type_metric, distance_metric\n",
    "from sklearn.cluster import KMeans\n",
    "import matplotlib.pyplot as plt\n",
    "import pandas as pd\n",
    "import numpy as np\n",
    "import math\n",
    "import sys\n",
    "import os\n",
    "import re"
   ]
  },
  {
   "cell_type": "code",
   "execution_count": 2,
   "metadata": {},
   "outputs": [],
   "source": [
    "#folder with data files\n",
    "path = \"/home/sasha/Desktop/TiNiSn_500C-20190604T152446Z-001/TiNiSn_500C/\"\n",
    "files = os.listdir(path)"
   ]
  },
  {
   "cell_type": "code",
   "execution_count": 3,
   "metadata": {},
   "outputs": [
    {
     "name": "stdout",
     "output_type": "stream",
     "text": [
      "data in grid cell 3:\n"
     ]
    },
    {
     "data": {
      "text/plain": [
       "array([[ 1.50250007, 14.09118183],\n",
       "       [ 1.50750007, 15.38790799],\n",
       "       [ 1.51250007, 16.71735611],\n",
       "       ...,\n",
       "       [ 5.48750064, 26.67669137],\n",
       "       [ 5.49250064, 32.62816851],\n",
       "       [ 5.49750064, 39.90884715]])"
      ]
     },
     "execution_count": 3,
     "metadata": {},
     "output_type": "execute_result"
    }
   ],
   "source": [
    "#load csv files into dictionary\n",
    "\n",
    "#create a regex to parse file names\n",
    "pattern = re.compile(\"\"\"TiNiSn_500C_Y20190218_14x14_t60_\n",
    "                         (?P<num>.*?)\n",
    "                         _bkgdSub_1D.csv\"\"\", re.VERBOSE)\n",
    "\n",
    "#read files and create dictionary\n",
    "#data maps: cell number -> csv data\n",
    "data ={}\n",
    "for file in files:\n",
    "    match = pattern.match(file)\n",
    "    if(match == None):\n",
    "        continue\n",
    "    num = int(match.group(\"num\"))\n",
    "    data[num] = np.array(pd.read_csv(path + file,header=None))\n",
    "\n",
    "print(\"data in grid cell 3:\")\n",
    "data[3]"
   ]
  },
  {
   "cell_type": "code",
   "execution_count": 4,
   "metadata": {},
   "outputs": [],
   "source": [
    "# specific values in the grid\n",
    "row_sums = [5, 14, 25, 38, 51, 66, 81, 96, 111, 126, 139, 152, 163, 172, 177]\n",
    "row_starts = [1] + [x + 1 for x in row_sums[:-1]]\n",
    "row_lengths = [5,9,11,13,13,15,15,15,15,15,13,13,11,9,5]\n",
    "base_vals = [52,26,15,6,7,1,2,3,4,5,13,14,25,38,66]\n",
    "top_vals = [112,140,153,164,165,173,174,175,176,177,171,172,163,152,126]"
   ]
  },
  {
   "cell_type": "code",
   "execution_count": 5,
   "metadata": {},
   "outputs": [
    {
     "name": "stdout",
     "output_type": "stream",
     "text": [
      "neighbors of cell 111\n"
     ]
    },
    {
     "data": {
      "text/plain": [
       "{'left': 110, 'up': 126, 'down': 96}"
      ]
     },
     "execution_count": 5,
     "metadata": {},
     "output_type": "execute_result"
    }
   ],
   "source": [
    "# define neighbors function to get neighbors of specific tiles\n",
    "def get_row(d):\n",
    "    return next(i for i,s in enumerate(row_sums) if d-s <= 0) + 1\n",
    "def up_shift(d):\n",
    "    return (row_lengths[get_row(d)] + row_lengths[get_row(d)-1])//2\n",
    "def down_shift(d):\n",
    "    return (row_lengths[get_row(d)-2] + row_lengths[get_row(d)-1])//2\n",
    "\n",
    "def neighbors(d):\n",
    "    neighbor_dict = {}\n",
    "    if d not in row_starts: #left neighbor\n",
    "        neighbor_dict['left'] = d-1\n",
    "    if d not in row_sums:   #right neighbor\n",
    "        neighbor_dict['right'] = d+1\n",
    "    if d not in top_vals: #up neighbor\n",
    "        neighbor_dict['up'] = d + up_shift(d)\n",
    "    if d not in base_vals: #down neighbor\n",
    "        neighbor_dict['down'] = d - down_shift(d)\n",
    "    return neighbor_dict\n",
    "\n",
    "print(\"neighbors of cell 111\")\n",
    "neighbors(111)"
   ]
  },
  {
   "cell_type": "code",
   "execution_count": 6,
   "metadata": {},
   "outputs": [],
   "source": [
    "# function to get grid location from the grid location number\n",
    "def coord(d):\n",
    "    y = get_row(d)\n",
    "    pos_in_row = d\n",
    "    if y > 1:\n",
    "        pos_in_row = d - row_sums[y-2]\n",
    "    x = 8 - (row_lengths[y-1]+1)//2 + pos_in_row\n",
    "    return x,y"
   ]
  },
  {
   "cell_type": "code",
   "execution_count": 7,
   "metadata": {},
   "outputs": [],
   "source": [
    "#similarity metric\n",
    "def similarity(d1,d2):\n",
    "    a = data[d1][:,1]\n",
    "    b = data[d2][:,1]\n",
    "    return np.dot(a,b)/np.linalg.norm(a)/np.linalg.norm(b)"
   ]
  },
  {
   "cell_type": "code",
   "execution_count": 8,
   "metadata": {},
   "outputs": [],
   "source": [
    "#create grid\n",
    "grid = np.zeros(shape=(15,15))"
   ]
  },
  {
   "cell_type": "code",
   "execution_count": 9,
   "metadata": {},
   "outputs": [],
   "source": [
    "#calculate similarity values for grid\n",
    "for val in range(1,177):\n",
    "    x,y = coord(val)\n",
    "    #which neighbors are used for similarity calculation\n",
    "    #keys = ['up','left']\n",
    "    keys = ['up', 'left', 'right', 'down']\n",
    "    neigh = [neighbors(val)[k] for k in neighbors(val).keys() if k in keys]\n",
    "    sim_values = [similarity(val,x) for x in neigh]\n",
    "    if len(sim_values) == 0:\n",
    "        grid[x-1][y-1] = 1\n",
    "        continue\n",
    "    grid[x-1][y-1] = np.amin(sim_values)\n"
   ]
  },
  {
   "cell_type": "code",
   "execution_count": 10,
   "metadata": {},
   "outputs": [],
   "source": [
    "#normalize grid based on min\n",
    "# values range (0, max - min]\n",
    "#this shows the relitive similarity values\n",
    "min = np.min(grid.ravel()[np.nonzero(grid.ravel())])\n",
    "min_array = np.full(grid.shape,min*.99)\n",
    "grid = np.clip(grid - min_array,0,1)"
   ]
  },
  {
   "cell_type": "code",
   "execution_count": 11,
   "metadata": {},
   "outputs": [
    {
     "data": {
      "image/png": "[encoded data removed]",
      "text/plain": [
       "<Figure size 432x288 with 1 Axes>"
      ]
     },
     "metadata": {
      "needs_background": "light"
     },
     "output_type": "display_data"
    }
   ],
   "source": [
    "#show similarity plot\n",
    "plt.imshow(grid)\n",
    "plt.show()"
   ]
  },
  {
   "cell_type": "code",
   "execution_count": null,
   "metadata": {},
   "outputs": [],
   "source": []
  }
 ],
 "metadata": {
  "kernelspec": {
   "display_name": "Python 3",
   "language": "python",
   "name": "python3"
  },
  "language_info": {
   "codemirror_mode": {
    "name": "ipython",
    "version": 3
   },
   "file_extension": ".py",
   "mimetype": "text/x-python",
   "name": "python",
   "nbconvert_exporter": "python",
   "pygments_lexer": "ipython3",
   "version": "3.6.7"
  }
 },
 "nbformat": 4,
 "nbformat_minor": 2
}
